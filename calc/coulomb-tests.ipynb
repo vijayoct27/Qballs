{
 "cells": [
  {
   "cell_type": "markdown",
   "metadata": {},
   "source": [
    "# Coulomb Stopping Power Tests\n",
    "\n",
    "Module stoppingpower contains routines for numerical integration of stopping powers for incident charged particles Coulomb scattering off a $T=0$ Fermi sea of electrons.  No asumptions are made about the incident particle's mass or initial kinematics.   "
   ]
  },
  {
   "cell_type": "code",
   "execution_count": 1,
   "metadata": {
    "collapsed": false
   },
   "outputs": [
    {
     "data": {
      "text/plain": [
       "<module 'stoppingpower' from 'stoppingpower.pyc'>"
      ]
     },
     "execution_count": 1,
     "metadata": {},
     "output_type": "execute_result"
    }
   ],
   "source": [
    "%matplotlib inline\n",
    "\n",
    "import time \n",
    "\n",
    "import numpy as np\n",
    "import matplotlib.pyplot as plt\n",
    "plt.rcParams['figure.figsize'] = [15,20]\n",
    "\n",
    "import stoppingpower as sp\n",
    "reload(sp)"
   ]
  },
  {
   "cell_type": "markdown",
   "metadata": {},
   "source": [
    "### Carbon ion and pion tests"
   ]
  },
  {
   "cell_type": "code",
   "execution_count": 2,
   "metadata": {
    "collapsed": true
   },
   "outputs": [],
   "source": [
    "m_electron = 0.5 # MeV\n",
    "Z_electron = -1.0 # charge\n",
    "n_electron = 10**31 # cm^{-3}, electron number density\n",
    "\n",
    "M_carbon = 10**4 # MeV\n",
    "Z_carbon = 6.0\n",
    "\n",
    "M_pion = 10**2 # Mev\n",
    "Z_pion = 1.0\n",
    "\n",
    "M_heavy = 10**7 # Mev\n",
    "Z_heavy = 1.0"
   ]
  },
  {
   "cell_type": "markdown",
   "metadata": {},
   "source": [
    "Initialize Fermi Sea properties, and construct stopping power functions.  This sets the energy unit to be MeV and the stopping power will be given in MeV/cm."
   ]
  },
  {
   "cell_type": "code",
   "execution_count": 3,
   "metadata": {
    "collapsed": false
   },
   "outputs": [],
   "source": [
    "wd = sp.FermiSea_StoppingPower(m=m_electron, n0=n_electron, \n",
    "                               masstolength=sp.MeV_to_InvCM)\n",
    "dedx_carbon_func = wd.get_coulomb_stopping_power(M_carbon, Z_carbon)\n",
    "dedx_pion_func = wd.get_coulomb_stopping_power(M_pion, Z_pion)\n",
    "dedx_heavy_func = wd.get_coulomb_stopping_power(M_heavy, Z_heavy)"
   ]
  },
  {
   "cell_type": "markdown",
   "metadata": {
    "collapsed": false
   },
   "source": [
    "Stopping power functions accept an (array of) incident kinetic energy and do a monte carlo integral over electron momentum, electron incident direction, and the com scattering angle.  "
   ]
  },
  {
   "cell_type": "code",
   "execution_count": 4,
   "metadata": {
    "collapsed": false
   },
   "outputs": [
    {
     "data": {
      "text/plain": [
       "array([[ 21624482.87723419],\n",
       "       [  6951554.89452207]])"
      ]
     },
     "execution_count": 4,
     "metadata": {},
     "output_type": "execute_result"
    }
   ],
   "source": [
    "dedx_carbon_func(100.0, samples=1000)"
   ]
  },
  {
   "cell_type": "code",
   "execution_count": 5,
   "metadata": {
    "collapsed": false
   },
   "outputs": [
    {
     "name": "stdout",
     "output_type": "stream",
     "text": [
      "1 loop, best of 3: 1.26 s per loop\n"
     ]
    }
   ],
   "source": [
    "timeit dedx_carbon_func([10.0**-2, 1.0, 100.0, 10**4, 10**6], samples=1000)"
   ]
  },
  {
   "cell_type": "markdown",
   "metadata": {},
   "source": [
    "Timing: 1.3 sec per 5000 samples, $\\Rightarrow \\sim 3 \\cdot 10^{-4}$ sec per sample. \n",
    "Need at least $10^5$ samples per incident momentum for percent-level accuracy - thats $30$ seconds per momentum point and about a half hour to construct one stopping power curve.  "
   ]
  },
  {
   "cell_type": "code",
   "execution_count": 6,
   "metadata": {
    "collapsed": false,
    "scrolled": true
   },
   "outputs": [
    {
     "name": "stdout",
     "output_type": "stream",
     "text": [
      "starting new run\n",
      "finished in 7.59 minutes\n",
      "finished in 7.80 minutes\n",
      "total       15.38 minutes\n"
     ]
    }
   ],
   "source": [
    "ke_step  = np.logspace(-5, 12, 35)\n",
    "ke_dense = np.logspace(-6, 13, 15*10**2)\n",
    "samples = 10**5\n",
    "\n",
    "try:\n",
    "    ke.shape\n",
    "    dedx_carbon.shape\n",
    "    dedx_carbon_error.shape\n",
    "    dedx_pion.shape\n",
    "    dedx_pion_error.shape\n",
    "    print \"appending to previous {} evaluations\".format(ke.shape[0])\n",
    "except NameError:\n",
    "    ke = np.array([])\n",
    "    dedx_carbon = np.array([])\n",
    "    dedx_carbon_error = np.array([])\n",
    "    dedx_pion = np.array([])\n",
    "    dedx_pion_error = np.array([])\n",
    "    print \"starting new run\".format(ke.shape[0])\n",
    "\n",
    "t0 = time.time()\n",
    "dedx_carbon_step, dedx_carbon_error_step = dedx_carbon_func(ke_step, samples=samples)\n",
    "print \"finished in {:0.2f} minutes\".format((time.time() - t0)/60.0)\n",
    "dedx_carbon = np.concatenate((dedx_carbon, dedx_carbon_step))\n",
    "dedx_carbon_error = np.concatenate((dedx_carbon_error, dedx_carbon_error_step))\n",
    "\n",
    "t1 = time.time()\n",
    "dedx_pion_step, dedx_pion_error_step = dedx_pion_func(ke_step, samples=samples)\n",
    "print \"finished in {:0.2f} minutes\".format((time.time() - t1)/60.0)\n",
    "print \"total       {:0.2f} minutes\".format((time.time() - t0)/60.0)\n",
    "dedx_pion = np.concatenate((dedx_pion, dedx_pion_step))\n",
    "dedx_pion_error = np.concatenate((dedx_pion_error, dedx_pion_error_step))\n",
    "\n",
    "ke = np.concatenate((ke, ke_step))\n",
    "\n",
    "# save results\n",
    "name = \"ne1031\"\n",
    "np.savetxt(\"dedx_carbon_{}.txt\".format(name), \n",
    "            np.concatenate(([ke], [dedx_carbon],\n",
    "                            [dedx_carbon_error])).T)\n",
    "np.savetxt(\"dedx_pion_{}.txt\".format(name), \n",
    "            np.concatenate(([ke], [dedx_pion],\n",
    "                            [dedx_pion_error])).T)\n",
    "# np.savetxt(\"dedx_heavy_{}.txt\".format(name), \n",
    "#             np.concatenate(([ke], [dedx_heavy],\n",
    "#                             [dedx_heavy_error])).T)"
   ]
  },
  {
   "cell_type": "markdown",
   "metadata": {},
   "source": [
    "stoppingpower can also construct an approximate function based on the limiting cases of relativistic or non-relativistic incident particles, assuming as well an incdient particle much heavier than the target electrons and that the target electrons are relativistic. approx_sp_piecewise is a piecewise approximation to the stopping power using these two limiting case.   \n",
    "\n",
    "The non-relativistic limit takes the target to be essentially stationary, and is valid as long as the incident momentum is greater than the target fermit momentum.  Below this threshold, the target motion and Pauli blocking probhits any energy transfer.  This is Paul's esitmate, and gives $dE/dx \\sim E^{1/2}$ where $E$ is the incident kinetic energy. (Note that this results involves a fixed but complicated integral over scattering and incident angles. I haven't done this integral, but rather set it's value by eye to match the numerical result. \n",
    "\n",
    "The relativistic result takes the electrons to be at rest, with an effective relativistic inertia $E_F$, and then demands that each energy transfer is still subject to Pauli blocking. This gives a stopping power that scales as the log of the incident kinetic energy (a la Jackson) which transitions to a polynomial behavior when the energy transfer drops below $E_F$. "
   ]
  },
  {
   "cell_type": "code",
   "execution_count": 7,
   "metadata": {
    "collapsed": false
   },
   "outputs": [],
   "source": [
    "# dedx_carbon_approx_func =  wd.approx_sp_piecewise(M_carbon, Z_carbon)\n",
    "# dedx_pion_approx_func =  wd.approx_sp_piecewise(M_pion, Z_pion)\n",
    "# dedx_heavy_approx_func = wd.approx_sp_piecewise(M_heavy, Z_heavy)\n",
    "\n",
    "dedx_carbon_approx_func =  wd.get_fitting_func(M_carbon, Z_carbon)\n",
    "dedx_pion_approx_func =  wd.get_fitting_func(M_pion, Z_pion)\n",
    "dedx_heavy_approx_func = wd.get_fitting_func(M_heavy, Z_heavy)"
   ]
  },
  {
   "cell_type": "code",
   "execution_count": 8,
   "metadata": {
    "collapsed": true
   },
   "outputs": [],
   "source": [
    "# load old run \n"
   ]
  },
  {
   "cell_type": "code",
   "execution_count": 9,
   "metadata": {
    "collapsed": false
   },
   "outputs": [
    {
     "data": {
      "text/plain": [
       "<matplotlib.legend.Legend at 0x7f083cf28a10>"
      ]
     },
     "execution_count": 9,
     "metadata": {},
     "output_type": "execute_result"
    },
    {
     "data": {
      "image/png": "[encoded data removed]",
      "text/plain": [
       "<matplotlib.figure.Figure at 0x7f083fe6ed90>"
      ]
     },
     "metadata": {},
     "output_type": "display_data"
    }
   ],
   "source": [
    "fig, ax = plt.subplots()\n",
    "\n",
    "# numerical results \n",
    "ax.errorbar(ke, dedx_carbon, yerr=dedx_carbon_error, \n",
    "            alpha=0.8, marker='.', linestyle='', color='r', \n",
    "            label='carbon numerical')\n",
    "ax.errorbar(ke, dedx_pion, yerr=dedx_pion_error, \n",
    "            alpha=0.8, marker='.', linestyle='', color='b', \n",
    "            label='pion numerical')\n",
    "# ax.errorbar(ke, dedx_heavy, yerr=dedx_heavy_error, \n",
    "#             alpha=0.8, marker='.', linestyle='', color='g', \n",
    "#             label='heavy numerical')\n",
    "\n",
    "# limiting approximations\n",
    "ax.plot(ke_dense, dedx_carbon_approx_func(ke_dense), alpha=0.3,\n",
    "        marker='', linestyle='-', color='m', \n",
    "        label='carbon approx')\n",
    "ax.plot(ke_dense, dedx_pion_approx_func(ke_dense), alpha=0.3,\n",
    "        marker='', linestyle='-', color='c', \n",
    "        label='pion approx')\n",
    "# ax.plot(ke, dedx_heavy_approx_func(ke), alpha=0.3,\n",
    "#         marker='', linestyle='-', color='g', \n",
    "#         label='heavy approx')\n",
    "\n",
    "# energy scales \n",
    "ax.axvline(M_carbon, linestyle='--', color='r', alpha=0.5, \n",
    "           label=\"carbon mass\")\n",
    "ax.axvline(wd.kinetic_cutoff(M_carbon), \n",
    "           linestyle=':', color='r', alpha=0.4, \n",
    "           label=\"carbon Pauli threhsold\")\n",
    "ax.axvline(M_pion, linestyle='--', color='b', alpha=0.5, \n",
    "           label=\"pion mass\")\n",
    "ax.axvline(wd.kinetic_cutoff(M_pion), \n",
    "           linestyle=':', color='b', alpha=0.4, \n",
    "           label=\"pion Pauli threhsold\")\n",
    "# ax.axvline(M_heavy, linestyle='--', color='g', alpha=0.5, \n",
    "#            label=\"heavy mass\")\n",
    "# ax.axvline(wd.kinetic_cutoff(M_heavy), \n",
    "#            linestyle=':', color='g', alpha=0.4, \n",
    "#            label=\"heavy Pauli threhsold\")\n",
    "# ax.axvline(wd.Efermi, linestyle=':', color='k', alpha=0.5, \n",
    "#            label=\"Fermi energy\")\n",
    "\n",
    "# for ke_i in ke:\n",
    "#     ax.axvline(ke_i, linestyle='--', color='k', alpha=0.4)\n",
    "\n",
    "\n",
    "ax.set_xlabel(\"incident kinetic energy [MeV]\")\n",
    "ax.set_ylabel(\"stopping power [MeV/cm]\")\n",
    "ax.set_xscale(\"log\")\n",
    "ax.set_yscale(\"log\")\n",
    "ax.set_ylim([10**-1, 10**11])\n",
    "ax.legend(loc=\"best\")"
   ]
  },
  {
   "cell_type": "markdown",
   "metadata": {},
   "source": [
    "old plot:\n",
    "    carbon levels off just above 10^10 and ion/heavy just below 10^9 \n",
    "    "
   ]
  },
  {
   "cell_type": "code",
   "execution_count": null,
   "metadata": {
    "collapsed": false
   },
   "outputs": [],
   "source": [
    "fig, ax = plt.subplots()\n",
    "\n",
    "# numerical results \n",
    "ax.errorbar(ke, ke/dedx_carbon, \n",
    "            yerr=ke*dedx_carbon_error/(dedx_carbon**2), \n",
    "            alpha=0.8, marker='.', linestyle='', color='r', \n",
    "            label='carbon numerical')\n",
    "ax.errorbar(ke, ke/dedx_pion, \n",
    "            yerr=ke*dedx_pion_error/(dedx_pion**2), \n",
    "            alpha=0.8, marker='.', linestyle='', color='b', \n",
    "            label='pion numerical')\n",
    "ax.errorbar(ke, ke/dedx_heavy, \n",
    "            yerr=ke*dedx_heavy_error/(dedx_heavy**2), \n",
    "            alpha=0.8, marker='.', linestyle='', color='g', \n",
    "            label='heavy numerical')\n",
    "\n",
    "# limiting approximations\n",
    "ax.plot(ke, ke/dedx_carbon_approx_func(ke), alpha=0.3,\n",
    "        marker='', linestyle='-', color='m', \n",
    "        label='carbon approx')\n",
    "ax.plot(ke, ke/dedx_pion_approx_func(ke), alpha=0.3,\n",
    "        marker='', linestyle='-', color='c', \n",
    "        label='pion approx')\n",
    "ax.plot(ke, ke/dedx_heavy_approx_func(ke), alpha=0.3,\n",
    "        marker='', linestyle='-', color='g', \n",
    "        label='heavy approx')\n",
    "\n",
    "# energy scales \n",
    "ax.axvline(M_carbon, linestyle='--', color='r', alpha=0.5, \n",
    "           label=\"carbon mass\")\n",
    "ax.axvline(wd.kinetic_cutoff(M_carbon), \n",
    "           linestyle=':', color='r', alpha=0.4, \n",
    "           label=\"carbon Pauli threhsold\")\n",
    "ax.axvline(M_pion, linestyle='--', color='b', alpha=0.5, \n",
    "           label=\"pion mass\")\n",
    "ax.axvline(wd.kinetic_cutoff(M_pion), \n",
    "           linestyle=':', color='b', alpha=0.4, \n",
    "           label=\"pion Pauli threhsold\")\n",
    "ax.axvline(M_heavy, linestyle='--', color='g', alpha=0.5, \n",
    "           label=\"heavy mass\")\n",
    "ax.axvline(wd.kinetic_cutoff(M_heavy), \n",
    "           linestyle=':', color='g', alpha=0.4, \n",
    "           label=\"heavy Pauli threhsold\")\n",
    "ax.axvline(wd.Efermi, linestyle=':', color='k', alpha=0.5, \n",
    "           label=\"Fermi energy\")\n",
    "\n",
    "ax.set_xlabel(\"incident kinetic energy [MeV]\")\n",
    "ax.set_ylabel(\"range [cm]\")\n",
    "ax.set_xscale(\"log\")\n",
    "ax.set_yscale(\"log\")\n",
    "ax.set_ylim([10**-7, 10**4])\n",
    "ax.legend(loc=\"best\")"
   ]
  },
  {
   "cell_type": "markdown",
   "metadata": {},
   "source": [
    "For the $10$ TeV particle, the non-relativistic $E^{1/2}$ scaling is clear, though for both the pion and carbon the kinetic-pauli cutoff kicks in before a non-relativistic region develops.  \n",
    "\n",
    "Again the $10$ TeV cases matches very well the expected log behavior at high energies, and in the other cases the numerical results is a bit below this.  This is probably due to the kinetic-pauli cutoff turning on and/or recoil effects which were ignored in these approximations. "
   ]
  },
  {
   "cell_type": "markdown",
   "metadata": {
    "collapsed": true
   },
   "source": [
    "### Incident electrons\n",
    "\n",
    "Note that this is ignoring identical particle effects. "
   ]
  },
  {
   "cell_type": "code",
   "execution_count": null,
   "metadata": {
    "collapsed": false
   },
   "outputs": [],
   "source": [
    "dedx_electron_func = wd.get_coulomb_stopping_power(m_electron, Z_electron)\n",
    "dedx_electron_approx_func =  wd.approx_sp_piecewise(m_electron, Z_electron)\n",
    "ke = np.logspace(-1, 12, 50)  "
   ]
  },
  {
   "cell_type": "code",
   "execution_count": null,
   "metadata": {
    "collapsed": false
   },
   "outputs": [],
   "source": [
    "samples = 5*10**4\n",
    "t0 = time.time()\n",
    "dedx_electron, dedx_electron_error = dedx_electron_func(ke, \n",
    "                                                        samples=samples)\n",
    "print \"finished in {:0.2f} minutes\".format((time.time() - t0)/60.0)"
   ]
  },
  {
   "cell_type": "code",
   "execution_count": null,
   "metadata": {
    "collapsed": false
   },
   "outputs": [],
   "source": [
    "fig, axes = plt.subplots(2, 1)\n",
    "ax_sp, ax_lambda = axes\n",
    "\n",
    "# numerical results \n",
    "ax_sp.errorbar(ke, dedx_electron, yerr=dedx_electron_error, \n",
    "            alpha=0.8, marker='.', linestyle='', color='r', \n",
    "            label='electron numerical')\n",
    "ax_lambda.errorbar(ke, ke/dedx_electron, \n",
    "                   yerr=ke*dedx_electron_error/(dedx_electron**2), \n",
    "                   alpha=0.8, marker='.', linestyle='', color='r', \n",
    "                   label='electron numerical')\n",
    "\n",
    "# limiting approximations\n",
    "ax_sp.plot(ke, dedx_electron_approx_func(ke), \n",
    "           alpha=0.3, marker='', linestyle='-', color='m', \n",
    "           label='electron approx')\n",
    "ax_lambda.plot(ke, ke/dedx_electron_approx_func(ke),\n",
    "               alpha=0.3, marker='', linestyle='-', color='m', \n",
    "               label='electron approx')\n",
    "\n",
    "# energy scales \n",
    "for ax in [ax_sp, ax_lambda]:\n",
    "    ax.axvline(m_electron, linestyle='--', color='g', alpha=0.5, \n",
    "               label=\"electron mass\")\n",
    "    ax.axvline(wd.kinetic_cutoff(m_electron), \n",
    "               linestyle=':', color='g', alpha=0.4, \n",
    "               label=\"electron Pauli threhsold\")\n",
    "    ax.axvline(wd.Efermi, linestyle=':', color='k', alpha=0.5, \n",
    "               label=\"Fermi energy\")\n",
    "# labels\n",
    "ax_sp.set_ylabel(\"stopping power [MeV/cm]\")\n",
    "ax_sp.set_xscale(\"log\")\n",
    "ax_sp.set_yscale(\"log\")\n",
    "ax_sp.set_ylim([10**-1, 10**11])\n",
    "\n",
    "ax_lambda.set_ylabel(\"range [cm]\")\n",
    "ax_lambda.set_xscale(\"log\")\n",
    "ax_lambda.set_yscale(\"log\")\n",
    "ax_lambda.set_ylim([10**-7, 10**4])\n",
    "\n",
    "ax_lambda.set_xlabel(\"incident kinetic energy [MeV]\")\n",
    "ax_lambda.legend(loc=\"best\")"
   ]
  },
  {
   "cell_type": "markdown",
   "metadata": {},
   "source": [
    "### Plasma Screening "
   ]
  },
  {
   "cell_type": "code",
   "execution_count": null,
   "metadata": {
    "collapsed": false
   },
   "outputs": [],
   "source": [
    "dedx_pion_func = wd.get_coulomb_stopping_power(M_pion, Z_pion)\n",
    "dedx_heavy_func = wd.get_coulomb_stopping_power(M_heavy, Z_heavy)\n",
    "\n",
    "dedx_pionscreened_func = wd.get_thomasfermicoulomb_stopping_power(M_pion, Z_pion)\n",
    "dedx_heavyscreened_func = wd.get_thomasfermicoulomb_stopping_power(M_heavy, Z_heavy)\n",
    "\n",
    "ke = np.logspace(-6, 12, 50)  # 100 samples log-spaced between 10^-4 and 10^9\n",
    "samples = 10**5\n",
    "t0 = time.time()\n",
    "dedx_pion, dedx_pion_error = dedx_pion_func(ke, samples=samples)\n",
    "dedx_heavy, dedx_heavy_error = dedx_heavy_func(ke, samples=samples)\n",
    "dedx_pionscreened, dedx_pionscreened_error = dedx_pionscreened_func(ke, samples=samples)\n",
    "dedx_heavyscreened, dedx_heavyscreened_error = dedx_heavyscreened_func(ke, samples=samples)\n",
    "print \"finished in {:0.2f} minutes\".format((time.time() - t0)/60.0)"
   ]
  },
  {
   "cell_type": "code",
   "execution_count": null,
   "metadata": {
    "collapsed": false
   },
   "outputs": [],
   "source": [
    "fig, ax = plt.subplots()\n",
    "\n",
    "# numerical results \n",
    "ax.errorbar(ke, dedx_pion, yerr=dedx_pion_error, alpha=0.4,\n",
    "            marker='o', linestyle='-', color='g', label='pion numerical')\n",
    "ax.errorbar(ke, dedx_pionscreened, yerr=dedx_pionscreened_error, alpha=0.8,\n",
    "            marker='.', linestyle='', color='r', label='pion numerical screened')\n",
    "# energy scales \n",
    "ax.axvline(M_pion, linestyle='--', color='r', alpha=0.5, label=\"pion mass\")\n",
    "ax.axvline(wd.kinetic_cutoff(M_pion), linestyle=':', color='r', alpha=0.4, label=\"pion threhsold\")\n",
    "ax.axvline(wd.Efermi, linestyle=':', color='k', alpha=0.5, label=\"fermi energy\")\n",
    "\n",
    "ax.set_xlabel(\"incident ke [MeV]\")\n",
    "ax.set_ylabel(\"stopping power [MeV/cm]\")\n",
    "ax.set_xscale(\"log\")\n",
    "ax.set_yscale(\"log\")\n",
    "ax.set_ylim([10**-1, 10**11])\n",
    "ax.legend(loc=\"best\")"
   ]
  },
  {
   "cell_type": "code",
   "execution_count": null,
   "metadata": {
    "collapsed": false
   },
   "outputs": [],
   "source": [
    "fig, ax = plt.subplots()\n",
    "\n",
    "# numerical results \n",
    "ax.errorbar(ke, dedx_heavy, yerr=dedx_heavy_error, alpha=0.4,\n",
    "            marker='o', linestyle='-', color='g', label='heavy numerical')\n",
    "ax.errorbar(ke, dedx_heavyscreened, yerr=dedx_heavyscreened_error, alpha=0.8,\n",
    "            marker='.', linestyle='', color='r', label='heavy numerical screened')\n",
    "# energy scales \n",
    "ax.axvline(M_heavy, linestyle='--', color='r', alpha=0.5, label=\"heavy mass\")\n",
    "ax.axvline(wd.kinetic_cutoff(M_heavy), linestyle=':', color='r', alpha=0.4, label=\"heavy threhsold\")\n",
    "ax.axvline(wd.Efermi, linestyle=':', color='k', alpha=0.5, label=\"fermi energy\")\n",
    "\n",
    "ax.set_xlabel(\"incident ke [MeV]\")\n",
    "ax.set_ylabel(\"stopping power [MeV/cm]\")\n",
    "ax.set_xscale(\"log\")\n",
    "ax.set_yscale(\"log\")\n",
    "ax.set_ylim([10**-1, 10**11])\n",
    "ax.legend(loc=\"best\")"
   ]
  },
  {
   "cell_type": "markdown",
   "metadata": {
    "collapsed": true
   },
   "source": [
    "### COM Azimuthal Integration "
   ]
  },
  {
   "cell_type": "code",
   "execution_count": null,
   "metadata": {
    "collapsed": false
   },
   "outputs": [],
   "source": [
    "ke = np.logspace(-5, 13, 20)  \n",
    "    # incident momenta log-spaced between 10^{-5} and 10^{12} MeV\n",
    "samples = 10**5\n",
    "\n",
    "dedx_heavy_func = wd.get_coulomb_stopping_power(M_heavy, Z_heavy,\n",
    "                                                azi=False)\n",
    "dedx_heavy_azifunc = wd.get_coulomb_stopping_power(M_heavy, Z_heavy,\n",
    "                                                   azi=True)\n",
    "dedx_pion_func = wd.get_coulomb_stopping_power(M_pion, Z_pion,\n",
    "                                                azi=False)\n",
    "dedx_pion_azifunc = wd.get_coulomb_stopping_power(M_pion, Z_pion,\n",
    "                                                   azi=True)\n",
    "\n",
    "t00 = time.time()\n",
    "dedx_heavy, dedx_heavy_error = dedx_heavy_func(ke, samples=samples)\n",
    "print \"finished in {:0.2f} minutes\".format((time.time() - t00)/60.0)\n",
    "t0 = time.time()\n",
    "dedxazi_heavy, dedxazi_heavy_error = dedx_heavy_azifunc(ke, samples=samples)\n",
    "print \"finished in {:0.2f} minutes\".format((time.time() - t0)/60.0)\n",
    "t0 = time.time()\n",
    "dedx_pion, dedx_pion_error = dedx_pion_func(ke, samples=samples)\n",
    "print \"finished in {:0.2f} minutes\".format((time.time() - t0)/60.0)\n",
    "t0 = time.time()\n",
    "dedxazi_pion, dedxazi_pion_error = dedx_pion_azifunc(ke, samples=samples)\n",
    "print \"finished in {:0.2f} minutes\".format((time.time() - t0)/60.0)\n",
    "print \"total       {:0.2f} minutes\".format((time.time() - t00)/60.0)"
   ]
  },
  {
   "cell_type": "code",
   "execution_count": null,
   "metadata": {
    "collapsed": false
   },
   "outputs": [],
   "source": [
    "fig, ax = plt.subplots()\n",
    "\n",
    "# stopping powers \n",
    "ax.fill_between(ke, dedx_heavy - 0.5*dedx_heavy_error, dedx_heavy + 0.5*dedx_heavy_error,\n",
    "            alpha=0.2, color='r',\n",
    "            label='heavy w/o azi')\n",
    "ax.plot(ke, wd.approx_sp_piecewise(M_heavy, Z_heavy)(ke), \n",
    "           alpha=0.4, marker='', linestyle='--', color='r', \n",
    "           label='heavy limiting approx')\n",
    "ax.errorbar(ke, dedxazi_heavy, yerr=dedxazi_heavy_error,\n",
    "            alpha=0.8, marker='.', linestyle='', color='r',\n",
    "            label='heavy w/ azi')\n",
    "\n",
    "ax.fill_between(ke, dedx_pion - 0.5*dedx_pion_error, dedx_pion + 0.5*dedx_pion_error,\n",
    "            alpha=0.2, color='b',\n",
    "            label='pion w/o azi')\n",
    "ax.plot(ke, wd.approx_sp_piecewise(M_pion, Z_pion)(ke), \n",
    "           alpha=0.4, marker='', linestyle='--', color='b', \n",
    "           label='pion approx')\n",
    "ax.errorbar(ke, dedxazi_pion, yerr=dedxazi_pion_error,\n",
    "            alpha=0.8, marker='.', linestyle='', color='b',\n",
    "            label='pion w/ azi')\n",
    "\n",
    "ax.set_xlabel(\"incident ke [MeV]\")\n",
    "ax.set_ylabel(\"stopping power [MeV/cm]\")\n",
    "ax.set_xscale(\"log\")\n",
    "ax.set_yscale(\"log\")\n",
    "ax.set_ylim([10**-1, 10**11])\n",
    "ax.legend(loc=\"best\")"
   ]
  },
  {
   "cell_type": "code",
   "execution_count": null,
   "metadata": {
    "collapsed": false
   },
   "outputs": [],
   "source": [
    "wd.approx_sp_piecewise(M_heavy, Z_heavy)(ke[ke<10**6])/dedxazi_heavy[ke<10**6]"
   ]
  },
  {
   "cell_type": "code",
   "execution_count": null,
   "metadata": {
    "collapsed": true
   },
   "outputs": [],
   "source": []
  }
 ],
 "metadata": {
  "kernelspec": {
   "display_name": "Python 2",
   "language": "python",
   "name": "python2"
  },
  "language_info": {
   "codemirror_mode": {
    "name": "ipython",
    "version": 2
   },
   "file_extension": ".py",
   "mimetype": "text/x-python",
   "name": "python",
   "nbconvert_exporter": "python",
   "pygments_lexer": "ipython2",
   "version": "2.7.13"
  }
 },
 "nbformat": 4,
 "nbformat_minor": 2
}
