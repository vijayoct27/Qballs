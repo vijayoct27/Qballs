{
 "cells": [
  {
   "cell_type": "markdown",
   "metadata": {},
   "source": [
    "# Coulomb Stopping Powers in a WD "
   ]
  },
  {
   "cell_type": "code",
   "execution_count": 5,
   "metadata": {
    "collapsed": false
   },
   "outputs": [],
   "source": [
    "# %matplotlib nbagg\n",
    "%matplotlib inline\n",
    "\n",
    "import time \n",
    "\n",
    "import numpy as np\n",
    "import matplotlib.pyplot as plt\n",
    "plt.rcParams['figure.figsize'] = [15,20]\n",
    "\n",
    "import stoppingpower as sp"
   ]
  },
  {
   "cell_type": "code",
   "execution_count": 6,
   "metadata": {
    "collapsed": true
   },
   "outputs": [],
   "source": [
    "Z_carbon = 6.0\n",
    "A_carbon = 12.0\n",
    "n_elec = Z_carbon*(10.0**np.array([30.0, 31.0, 32.0])) # cm^{-3}\n",
    "m_proton = 940.0 # MeV\n",
    "m_electron = 0.5 # Mev\n",
    "m_pion = 140.0 # MeV\n",
    "\n",
    "incidents = [\"pion\", \"electron\", \"carbon\"]\n",
    "masses = {\"pion\":m_pion, \n",
    "          \"electron\":m_electron, \n",
    "          \"carbon\":m_proton*A_carbon}\n",
    "charges = {\"pion\":1.0, \n",
    "           \"electron\":-1.0, \n",
    "           \"carbon\":Z_carbon}"
   ]
  },
  {
   "cell_type": "code",
   "execution_count": 7,
   "metadata": {
    "collapsed": false
   },
   "outputs": [
    {
     "name": "stdout",
     "output_type": "stream",
     "text": [
      "density: 6e+30 cm^(-3)\n",
      "p_fermi: 1.12 MeV\n",
      "    calculating pion stopping power...\n"
     ]
    },
    {
     "ename": "AttributeError",
     "evalue": "'FermiSea_StoppingPower' object has no attribute 'get_weighted_integrand'",
     "output_type": "error",
     "traceback": [
      "\u001b[0;31m---------------------------------------------------------------------------\u001b[0m",
      "\u001b[0;31mAttributeError\u001b[0m                            Traceback (most recent call last)",
      "\u001b[0;32m<ipython-input-7-5aad1fda76d6>\u001b[0m in \u001b[0;36m<module>\u001b[0;34m()\u001b[0m\n\u001b[1;32m     17\u001b[0m         \u001b[0;32mprint\u001b[0m \u001b[0;34m\"    calculating {} stopping power...\"\u001b[0m\u001b[0;34m.\u001b[0m\u001b[0mformat\u001b[0m\u001b[0;34m(\u001b[0m\u001b[0mincident\u001b[0m\u001b[0;34m)\u001b[0m\u001b[0;34m\u001b[0m\u001b[0m\n\u001b[1;32m     18\u001b[0m         \u001b[0mt0\u001b[0m \u001b[0;34m=\u001b[0m \u001b[0mtime\u001b[0m\u001b[0;34m.\u001b[0m\u001b[0mtime\u001b[0m\u001b[0;34m(\u001b[0m\u001b[0;34m)\u001b[0m\u001b[0;34m\u001b[0m\u001b[0m\n\u001b[0;32m---> 19\u001b[0;31m         \u001b[0msp\u001b[0m\u001b[0;34m[\u001b[0m\u001b[0mincident\u001b[0m\u001b[0;34m]\u001b[0m\u001b[0;34m,\u001b[0m \u001b[0msp_err\u001b[0m\u001b[0;34m[\u001b[0m\u001b[0mincident\u001b[0m\u001b[0;34m]\u001b[0m \u001b[0;34m=\u001b[0m \u001b[0mdedx_func\u001b[0m\u001b[0;34m(\u001b[0m\u001b[0mke\u001b[0m\u001b[0;34m,\u001b[0m \u001b[0msamples\u001b[0m\u001b[0;34m=\u001b[0m\u001b[0msamples\u001b[0m\u001b[0;34m)\u001b[0m\u001b[0;34m\u001b[0m\u001b[0m\n\u001b[0m\u001b[1;32m     20\u001b[0m         \u001b[0melapsed\u001b[0m \u001b[0;34m=\u001b[0m \u001b[0;34m(\u001b[0m\u001b[0mtime\u001b[0m\u001b[0;34m.\u001b[0m\u001b[0mtime\u001b[0m\u001b[0;34m(\u001b[0m\u001b[0;34m)\u001b[0m \u001b[0;34m-\u001b[0m \u001b[0mt0\u001b[0m\u001b[0;34m)\u001b[0m\u001b[0;34m/\u001b[0m\u001b[0;36m60.0\u001b[0m\u001b[0;34m\u001b[0m\u001b[0m\n\u001b[1;32m     21\u001b[0m         \u001b[0;32mprint\u001b[0m \u001b[0;34m\"    .... finished in {:.3f} minutes\"\u001b[0m\u001b[0;34m.\u001b[0m\u001b[0mformat\u001b[0m\u001b[0;34m(\u001b[0m\u001b[0melapsed\u001b[0m\u001b[0;34m)\u001b[0m\u001b[0;34m\u001b[0m\u001b[0m\n",
      "\u001b[0;32m/home/rjanish/wd-detector/repo/calc/stoppingpower.py\u001b[0m in \u001b[0;36mstopping_power\u001b[0;34m(ke, samples)\u001b[0m\n\u001b[1;32m    222\u001b[0m                 \u001b[0mprefactor\u001b[0m \u001b[0;34m*=\u001b[0m \u001b[0mself\u001b[0m\u001b[0;34m.\u001b[0m\u001b[0mmasstolength\u001b[0m\u001b[0;34m\u001b[0m\u001b[0m\n\u001b[1;32m    223\u001b[0m                     \u001b[0;31m# convert from mass^2 to mass/length\u001b[0m\u001b[0;34m\u001b[0m\u001b[0;34m\u001b[0m\u001b[0m\n\u001b[0;32m--> 224\u001b[0;31m                 \u001b[0mintegrand\u001b[0m\u001b[0;34m,\u001b[0m \u001b[0mdist\u001b[0m \u001b[0;34m=\u001b[0m \u001b[0mself\u001b[0m\u001b[0;34m.\u001b[0m\u001b[0mget_weighted_integrand\u001b[0m\u001b[0;34m(\u001b[0m\u001b[0mpM\u001b[0m\u001b[0;34m,\u001b[0m \u001b[0mM\u001b[0m\u001b[0;34m,\u001b[0m \u001b[0mAsq_func\u001b[0m\u001b[0;34m)\u001b[0m\u001b[0;34m\u001b[0m\u001b[0m\n\u001b[0m\u001b[1;32m    225\u001b[0m                 \u001b[0mdist_norm\u001b[0m \u001b[0;34m=\u001b[0m \u001b[0;36m8\u001b[0m\u001b[0;34m*\u001b[0m\u001b[0mnp\u001b[0m\u001b[0;34m.\u001b[0m\u001b[0mpi\u001b[0m\u001b[0;34m*\u001b[0m\u001b[0;34m(\u001b[0m\u001b[0mself\u001b[0m\u001b[0;34m.\u001b[0m\u001b[0mpfermi\u001b[0m\u001b[0;34m**\u001b[0m\u001b[0;36m3\u001b[0m\u001b[0;34m)\u001b[0m\u001b[0;34m/\u001b[0m\u001b[0;36m3.0\u001b[0m\u001b[0;34m\u001b[0m\u001b[0m\n\u001b[1;32m    226\u001b[0m                     \u001b[0;31m# norm of sampling distribution\u001b[0m\u001b[0;34m\u001b[0m\u001b[0;34m\u001b[0m\u001b[0m\n",
      "\u001b[0;31mAttributeError\u001b[0m: 'FermiSea_StoppingPower' object has no attribute 'get_weighted_integrand'"
     ]
    },
    {
     "data": {
      "image/png": "[encoded data removed]",
      "text/plain": [
       "<matplotlib.figure.Figure at 0x7f033ef69390>"
      ]
     },
     "metadata": {},
     "output_type": "display_data"
    }
   ],
   "source": [
    "ke = np.logspace(-2, 12, 50)\n",
    "samples = 10**2\n",
    "\n",
    "dedx, dedx_err = {}, {}\n",
    "fig, ax = plt.subplots()\n",
    "for n_index, n0 in enumerate(n_elec):\n",
    "    wd = sp.FermiSea_StoppingPower(m=m_electron, n0=n0, \n",
    "                                   masstolength=sp.MeV_to_InvCM)\n",
    "    print \"density: {} cm^(-3)\".format(n0)\n",
    "    print \"p_fermi: {:.2f} MeV\".format(wd.pfermi)\n",
    "    \n",
    "    for incident in incidents:\n",
    "        dedx_func = wd.get_coulomb_stopping_power(masses[incident], \n",
    "                                                  charges[incident])\n",
    "        dedx_approx_func = wd.approx_sp_piecewise(masses[incident], \n",
    "                                                  charges[incident])\n",
    "        print \"    calculating {} stopping power...\".format(incident)\n",
    "        t0 = time.time()\n",
    "        sp[incident], sp_err[incident] = dedx_func(ke, samples=samples)\n",
    "        elapsed = (time.time() - t0)/60.0\n",
    "        print \"    .... finished in {:.3f} minutes\".format(elapsed)\n",
    "        dedx_plot = ax.errorbar(ke, sp[incident], yerr=sp_err[incident], \n",
    "                                alpha=0.6, marker='.', linestyle='', \n",
    "                                label=(\"{} at {} cm^-3\"\n",
    "                                       \"\".format(incident, n0)))\n",
    "        current_color = dedx_plot[0].get_color()\n",
    "        ax.plot(ke, dedx_approx_func(ke),\n",
    "                alpha=0.4, marker='', color=current_color,\n",
    "                linestyle='-', label=\"approx at {} cm^-3\".format(n0))\n",
    "    if n_index == (len(incidents)-1):\n",
    "        ax.set_title(\"WD Coulomb Stopping Powers\", fontsize=12)\n",
    "        ax.set_xlabel(\"Incident Kinetic Energy [MeV]\", fontsize=12)\n",
    "        ax.set_ylabel(\"Normalized Stopping Power [MeV cm^2]\", fontsize=12)\n",
    "        ax.set_xscale(\"log\")\n",
    "        ax.set_yscale(\"log\")\n",
    "ax.legend(loc=\"best\")"
   ]
  },
  {
   "cell_type": "code",
   "execution_count": null,
   "metadata": {
    "collapsed": true
   },
   "outputs": [],
   "source": []
  }
 ],
 "metadata": {
  "kernelspec": {
   "display_name": "Python 2",
   "language": "python",
   "name": "python2"
  },
  "language_info": {
   "codemirror_mode": {
    "name": "ipython",
    "version": 2
   },
   "file_extension": ".py",
   "mimetype": "text/x-python",
   "name": "python",
   "nbconvert_exporter": "python",
   "pygments_lexer": "ipython2",
   "version": "2.7.13"
  }
 },
 "nbformat": 4,
 "nbformat_minor": 2
}
